{
  "cells": [
    {
      "cell_type": "markdown",
      "metadata": {
        "id": "view-in-github",
        "colab_type": "text"
      },
      "source": [
        "<a href=\"https://colab.research.google.com/github/amrutha20-s/Samsung-Innovation-Campus/blob/main/python_basics.ipynb\" target=\"_parent\"><img src=\"https://colab.research.google.com/assets/colab-badge.svg\" alt=\"Open In Colab\"/></a>"
      ]
    },
    {
      "cell_type": "markdown",
      "metadata": {
        "id": "SWpyDMNmh8GS"
      },
      "source": [
        "### 1. Number:"
      ]
    },
    {
      "cell_type": "markdown",
      "metadata": {
        "id": "contYzxrh8GT"
      },
      "source": [
        "#### 1.1. Operations with numbers:"
      ]
    },
    {
      "cell_type": "code",
      "execution_count": null,
      "metadata": {
        "id": "HViHxWxbh8GU",
        "colab": {
          "base_uri": "https://localhost:8080/"
        },
        "outputId": "13c00222-61d6-413f-df2c-d6c708e149d2"
      },
      "outputs": [
        {
          "output_type": "execute_result",
          "data": {
            "text/plain": [
              "2"
            ]
          },
          "metadata": {},
          "execution_count": 1
        }
      ],
      "source": [
        "1+1"
      ]
    },
    {
      "cell_type": "code",
      "execution_count": null,
      "metadata": {
        "id": "sMudpQt7h8GU",
        "colab": {
          "base_uri": "https://localhost:8080/"
        },
        "outputId": "27a8d996-a260-4290-903f-98bbdd27e8cd"
      },
      "outputs": [
        {
          "output_type": "execute_result",
          "data": {
            "text/plain": [
              "8"
            ]
          },
          "metadata": {},
          "execution_count": 2
        }
      ],
      "source": [
        "2**3"
      ]
    },
    {
      "cell_type": "code",
      "execution_count": null,
      "metadata": {
        "id": "yMzf8h9qh8GV",
        "colab": {
          "base_uri": "https://localhost:8080/"
        },
        "outputId": "6a03a98c-9be3-470e-f476-9aca70f7d203"
      },
      "outputs": [
        {
          "output_type": "execute_result",
          "data": {
            "text/plain": [
              "3"
            ]
          },
          "metadata": {},
          "execution_count": 3
        }
      ],
      "source": [
        "8%5"
      ]
    },
    {
      "cell_type": "code",
      "execution_count": null,
      "metadata": {
        "id": "IOOOnWf3h8GW",
        "colab": {
          "base_uri": "https://localhost:8080/"
        },
        "outputId": "3fb68e54-3d28-4ced-9657-a9351a1d331b"
      },
      "outputs": [
        {
          "output_type": "execute_result",
          "data": {
            "text/plain": [
              "1.0"
            ]
          },
          "metadata": {},
          "execution_count": 4
        }
      ],
      "source": [
        "8.0//5.0"
      ]
    },
    {
      "cell_type": "markdown",
      "metadata": {
        "id": "_toguI-dh8GW"
      },
      "source": [
        "### 2. String:"
      ]
    },
    {
      "cell_type": "markdown",
      "metadata": {
        "id": "TnrXQSH6h8GW"
      },
      "source": [
        "#### 2.1. Basics:"
      ]
    },
    {
      "cell_type": "code",
      "execution_count": null,
      "metadata": {
        "id": "QWL-zlbyh8GW",
        "colab": {
          "base_uri": "https://localhost:8080/"
        },
        "outputId": "71ac8ba3-ebc1-4fe6-f744-047b2c684ec3"
      },
      "outputs": [
        {
          "output_type": "stream",
          "name": "stdout",
          "text": [
            "He said, 'Python is very easy'\n",
            "He said, \"Python is very easy\"\n"
          ]
        }
      ],
      "source": [
        "# A quote within another quote.\n",
        "print(\"He said, 'Python is very easy'\")\n",
        "print('He said, \"Python is very easy\"')"
      ]
    },
    {
      "cell_type": "code",
      "execution_count": null,
      "metadata": {
        "id": "yI4Gr1hZh8GX",
        "colab": {
          "base_uri": "https://localhost:8080/"
        },
        "outputId": "dd1aa725-9134-4ef9-8446-9aaa331e14ae"
      },
      "outputs": [
        {
          "output_type": "stream",
          "name": "stdout",
          "text": [
            "Hello !!!\n",
            "my\n",
            "name\n",
            "is\n",
            "Python.\n"
          ]
        }
      ],
      "source": [
        "# Multi-line string.\n",
        "my_string = \"\"\"Hello !!!\n",
        "my\n",
        "name\n",
        "is\n",
        "Python.\"\"\"\n",
        "print(my_string)"
      ]
    },
    {
      "cell_type": "markdown",
      "metadata": {
        "id": "y6-AsNJ0h8GX"
      },
      "source": [
        "#### 2.2. Operations with strings:"
      ]
    },
    {
      "cell_type": "code",
      "execution_count": null,
      "metadata": {
        "id": "Kdu0RGmih8GX",
        "colab": {
          "base_uri": "https://localhost:8080/"
        },
        "outputId": "f9f475a0-4a3b-4fd0-c479-fef1d365c335"
      },
      "outputs": [
        {
          "output_type": "stream",
          "name": "stdout",
          "text": [
            "First string. Second string.\n"
          ]
        }
      ],
      "source": [
        "str1 = 'First string. '\n",
        "str2 = 'Second string.'\n",
        "print(str1 + str2)"
      ]
    },
    {
      "cell_type": "code",
      "execution_count": null,
      "metadata": {
        "id": "BF6AHuHHh8GX",
        "colab": {
          "base_uri": "https://localhost:8080/"
        },
        "outputId": "734633ba-def3-46c4-ddaf-5aff2b7081be"
      },
      "outputs": [
        {
          "output_type": "stream",
          "name": "stdout",
          "text": [
            "Python. Python. Python. Python. Python. \n"
          ]
        }
      ],
      "source": [
        "str = 'Python. '\n",
        "print(str*5)"
      ]
    },
    {
      "cell_type": "markdown",
      "metadata": {
        "id": "CslxnJ_bh8GX"
      },
      "source": [
        "#### 2.3. Indexing and slilcing strings:"
      ]
    },
    {
      "cell_type": "code",
      "execution_count": null,
      "metadata": {
        "id": "SVnW7IEUh8GX",
        "colab": {
          "base_uri": "https://localhost:8080/"
        },
        "outputId": "a30b4eb3-6d94-48b4-c86d-4fe62e40e193"
      },
      "outputs": [
        {
          "output_type": "stream",
          "name": "stdout",
          "text": [
            "L\n",
            "!\n",
            "Life\n",
            "is too short, You need Python!\n"
          ]
        }
      ],
      "source": [
        "str = 'Life is too short, You need Python!'\n",
        "print(str[0])\n",
        "print(str[-1])\n",
        "print(str[0:4])\n",
        "print(str[5:])"
      ]
    },
    {
      "cell_type": "markdown",
      "metadata": {
        "id": "VlavB8oth8GX"
      },
      "source": [
        "#### 2.4. Functions and methods for string objects:"
      ]
    },
    {
      "cell_type": "code",
      "execution_count": null,
      "metadata": {
        "id": "NCK5XR0vh8GX",
        "colab": {
          "base_uri": "https://localhost:8080/"
        },
        "outputId": "be462384-5bfa-4b88-c822-e40bd0a1b3de"
      },
      "outputs": [
        {
          "output_type": "stream",
          "name": "stdout",
          "text": [
            "6\n"
          ]
        }
      ],
      "source": [
        "x = 'Python'\n",
        "print(len(x))"
      ]
    },
    {
      "cell_type": "code",
      "execution_count": null,
      "metadata": {
        "id": "I18lNBwhh8GX",
        "colab": {
          "base_uri": "https://localhost:8080/"
        },
        "outputId": "4cca53cc-5412-40be-8148-5124fac51169"
      },
      "outputs": [
        {
          "output_type": "execute_result",
          "data": {
            "text/plain": [
              "1"
            ]
          },
          "metadata": {},
          "execution_count": 11
        }
      ],
      "source": [
        "x.count('h')"
      ]
    },
    {
      "cell_type": "code",
      "execution_count": null,
      "metadata": {
        "id": "yb9LSurKh8GY",
        "colab": {
          "base_uri": "https://localhost:8080/",
          "height": 35
        },
        "outputId": "0130ac91-9e8f-4d68-bd4c-48a60f8bf7ab"
      },
      "outputs": [
        {
          "output_type": "execute_result",
          "data": {
            "text/plain": [
              "'PYTHON'"
            ],
            "application/vnd.google.colaboratory.intrinsic+json": {
              "type": "string"
            }
          },
          "metadata": {},
          "execution_count": 12
        }
      ],
      "source": [
        "x.upper()"
      ]
    },
    {
      "cell_type": "code",
      "execution_count": null,
      "metadata": {
        "id": "aT-t9UQxh8GY",
        "colab": {
          "base_uri": "https://localhost:8080/",
          "height": 35
        },
        "outputId": "9b567ec2-42df-4dd4-a0b1-619942e7886a"
      },
      "outputs": [
        {
          "output_type": "execute_result",
          "data": {
            "text/plain": [
              "'python'"
            ],
            "application/vnd.google.colaboratory.intrinsic+json": {
              "type": "string"
            }
          },
          "metadata": {},
          "execution_count": 13
        }
      ],
      "source": [
        "x.lower()"
      ]
    },
    {
      "cell_type": "code",
      "execution_count": null,
      "metadata": {
        "id": "nRiwBDHVh8GY",
        "colab": {
          "base_uri": "https://localhost:8080/"
        },
        "outputId": "1979ac5b-4673-4878-bb2d-a192bfd9b284"
      },
      "outputs": [
        {
          "output_type": "execute_result",
          "data": {
            "text/plain": [
              "4"
            ]
          },
          "metadata": {},
          "execution_count": 14
        }
      ],
      "source": [
        "x.find('o')"
      ]
    },
    {
      "cell_type": "code",
      "execution_count": null,
      "metadata": {
        "id": "5swtg5qih8GY",
        "colab": {
          "base_uri": "https://localhost:8080/"
        },
        "outputId": "85bfaa74-11d2-42f5-b11a-c8e68f314e7f"
      },
      "outputs": [
        {
          "output_type": "execute_result",
          "data": {
            "text/plain": [
              "-1"
            ]
          },
          "metadata": {},
          "execution_count": 15
        }
      ],
      "source": [
        "x.find('w')"
      ]
    },
    {
      "cell_type": "code",
      "execution_count": null,
      "metadata": {
        "id": "eDgYvISCh8GY",
        "colab": {
          "base_uri": "https://localhost:8080/"
        },
        "outputId": "e6d39ec0-4cec-4b53-da53-48ce7889ad92"
      },
      "outputs": [
        {
          "output_type": "execute_result",
          "data": {
            "text/plain": [
              "4"
            ]
          },
          "metadata": {},
          "execution_count": 16
        }
      ],
      "source": [
        "x.index('o')"
      ]
    },
    {
      "cell_type": "code",
      "execution_count": null,
      "metadata": {
        "id": "WWVnQfveh8GY",
        "colab": {
          "base_uri": "https://localhost:8080/",
          "height": 159
        },
        "outputId": "e95560d1-9fda-47f3-a415-1f66e87bf850"
      },
      "outputs": [
        {
          "output_type": "error",
          "ename": "ValueError",
          "evalue": "substring not found",
          "traceback": [
            "\u001b[0;31m---------------------------------------------------------------------------\u001b[0m",
            "\u001b[0;31mValueError\u001b[0m                                Traceback (most recent call last)",
            "\u001b[0;32m/tmp/ipython-input-974259910.py\u001b[0m in \u001b[0;36m<cell line: 0>\u001b[0;34m()\u001b[0m\n\u001b[1;32m      1\u001b[0m \u001b[0;31m# 'w' is not found in x. This will result in an error.\u001b[0m\u001b[0;34m\u001b[0m\u001b[0;34m\u001b[0m\u001b[0m\n\u001b[0;32m----> 2\u001b[0;31m \u001b[0mx\u001b[0m\u001b[0;34m.\u001b[0m\u001b[0mindex\u001b[0m\u001b[0;34m(\u001b[0m\u001b[0;34m'w'\u001b[0m\u001b[0;34m)\u001b[0m\u001b[0;34m\u001b[0m\u001b[0;34m\u001b[0m\u001b[0m\n\u001b[0m",
            "\u001b[0;31mValueError\u001b[0m: substring not found"
          ]
        }
      ],
      "source": [
        "# 'w' is not found in x. This will result in an error.\n",
        "x.index('w')"
      ]
    },
    {
      "cell_type": "code",
      "execution_count": null,
      "metadata": {
        "id": "GcVr7Do8h8GY"
      },
      "outputs": [],
      "source": [
        "x = 'Life is too short, You need Python!'"
      ]
    },
    {
      "cell_type": "code",
      "execution_count": null,
      "metadata": {
        "id": "avbDSXP9h8GY",
        "colab": {
          "base_uri": "https://localhost:8080/"
        },
        "outputId": "41bc0a71-9e25-47f6-d5ef-939f401dc25f"
      },
      "outputs": [
        {
          "output_type": "execute_result",
          "data": {
            "text/plain": [
              "['Life', 'is', 'too', 'short,', 'You', 'need', 'Python!']"
            ]
          },
          "metadata": {},
          "execution_count": 20
        }
      ],
      "source": [
        "x.split(' ')"
      ]
    },
    {
      "cell_type": "code",
      "execution_count": null,
      "metadata": {
        "id": "ncow89rEh8GY",
        "colab": {
          "base_uri": "https://localhost:8080/"
        },
        "outputId": "530922bd-e211-49b8-f602-8489909c2ca7"
      },
      "outputs": [
        {
          "output_type": "stream",
          "name": "stdout",
          "text": [
            "Life is too short, You need Python!\n"
          ]
        }
      ],
      "source": [
        "y = x.split(' ')\n",
        "a = ' '\n",
        "print(a.join(y))"
      ]
    },
    {
      "cell_type": "markdown",
      "metadata": {
        "id": "1AGlO4vBh8GY"
      },
      "source": [
        "### 3. Boolean:"
      ]
    },
    {
      "cell_type": "markdown",
      "metadata": {
        "id": "cIs-SDrjh8GZ"
      },
      "source": [
        "#### 3.1. Operations with Booleans:"
      ]
    },
    {
      "cell_type": "markdown",
      "metadata": {
        "id": "abfx_ZRWh8GZ"
      },
      "source": [
        "AND operator:"
      ]
    },
    {
      "cell_type": "code",
      "execution_count": null,
      "metadata": {
        "id": "kngE95C4h8GZ",
        "colab": {
          "base_uri": "https://localhost:8080/"
        },
        "outputId": "a3a94d02-5485-4817-e535-c3a3feacea3e"
      },
      "outputs": [
        {
          "output_type": "execute_result",
          "data": {
            "text/plain": [
              "False"
            ]
          },
          "metadata": {},
          "execution_count": 22
        }
      ],
      "source": [
        "False and False"
      ]
    },
    {
      "cell_type": "code",
      "execution_count": null,
      "metadata": {
        "id": "METy6Yvjh8GZ",
        "colab": {
          "base_uri": "https://localhost:8080/"
        },
        "outputId": "0df987d5-ad78-4a6e-bb1d-439d61212fcd"
      },
      "outputs": [
        {
          "output_type": "execute_result",
          "data": {
            "text/plain": [
              "False"
            ]
          },
          "metadata": {},
          "execution_count": 23
        }
      ],
      "source": [
        "False and True"
      ]
    },
    {
      "cell_type": "code",
      "execution_count": null,
      "metadata": {
        "id": "TEZSGxvPh8GZ",
        "colab": {
          "base_uri": "https://localhost:8080/"
        },
        "outputId": "1f18fe7c-88e8-40eb-89dd-60f4a068ee49"
      },
      "outputs": [
        {
          "output_type": "execute_result",
          "data": {
            "text/plain": [
              "False"
            ]
          },
          "metadata": {},
          "execution_count": 24
        }
      ],
      "source": [
        "True and False"
      ]
    },
    {
      "cell_type": "code",
      "execution_count": null,
      "metadata": {
        "id": "hTWem-DKh8Ga",
        "colab": {
          "base_uri": "https://localhost:8080/"
        },
        "outputId": "3e9fb6b2-3b24-4ff3-dddd-5c1246dd8c25"
      },
      "outputs": [
        {
          "output_type": "execute_result",
          "data": {
            "text/plain": [
              "True"
            ]
          },
          "metadata": {},
          "execution_count": 25
        }
      ],
      "source": [
        "True and True"
      ]
    },
    {
      "cell_type": "code",
      "execution_count": null,
      "metadata": {
        "id": "qIhYW6iCh8Ga",
        "colab": {
          "base_uri": "https://localhost:8080/"
        },
        "outputId": "7ebd8da9-56cf-4525-a1ab-fc3ed8b429f9"
      },
      "outputs": [
        {
          "output_type": "execute_result",
          "data": {
            "text/plain": [
              "False"
            ]
          },
          "metadata": {},
          "execution_count": 26
        }
      ],
      "source": [
        "(3 > 2) and (5 < 4)"
      ]
    },
    {
      "cell_type": "code",
      "execution_count": null,
      "metadata": {
        "id": "ry-UK3yIh8Ga",
        "colab": {
          "base_uri": "https://localhost:8080/"
        },
        "outputId": "805b5344-2033-4c34-dcd5-4f89788a3c77"
      },
      "outputs": [
        {
          "output_type": "execute_result",
          "data": {
            "text/plain": [
              "True"
            ]
          },
          "metadata": {},
          "execution_count": 27
        }
      ],
      "source": [
        "(3 > 2) and (5 > 4)"
      ]
    },
    {
      "cell_type": "markdown",
      "metadata": {
        "id": "z-nZCsWoh8Ga"
      },
      "source": [
        "OR operator:"
      ]
    },
    {
      "cell_type": "code",
      "execution_count": null,
      "metadata": {
        "id": "FjI2PEPVh8Ga",
        "colab": {
          "base_uri": "https://localhost:8080/"
        },
        "outputId": "e420d137-0465-4a1b-b9cf-3a4295b0d3ef"
      },
      "outputs": [
        {
          "output_type": "execute_result",
          "data": {
            "text/plain": [
              "False"
            ]
          },
          "metadata": {},
          "execution_count": 28
        }
      ],
      "source": [
        "False or False"
      ]
    },
    {
      "cell_type": "code",
      "execution_count": null,
      "metadata": {
        "id": "s5XxkwIph8Gg",
        "colab": {
          "base_uri": "https://localhost:8080/"
        },
        "outputId": "d287b936-616c-4d72-d923-41a80a0ee8bb"
      },
      "outputs": [
        {
          "output_type": "execute_result",
          "data": {
            "text/plain": [
              "True"
            ]
          },
          "metadata": {},
          "execution_count": 29
        }
      ],
      "source": [
        "True or False"
      ]
    },
    {
      "cell_type": "code",
      "execution_count": null,
      "metadata": {
        "id": "sV_yVgCAh8Gg",
        "colab": {
          "base_uri": "https://localhost:8080/"
        },
        "outputId": "6dd59c9c-e30f-4969-fcbb-2032e9e56d97"
      },
      "outputs": [
        {
          "output_type": "execute_result",
          "data": {
            "text/plain": [
              "True"
            ]
          },
          "metadata": {},
          "execution_count": 30
        }
      ],
      "source": [
        "False or True"
      ]
    },
    {
      "cell_type": "code",
      "execution_count": null,
      "metadata": {
        "id": "_I2nFBXsh8Gg",
        "colab": {
          "base_uri": "https://localhost:8080/"
        },
        "outputId": "ab912608-b7b3-4fb0-c70e-0a84f7786eac"
      },
      "outputs": [
        {
          "output_type": "execute_result",
          "data": {
            "text/plain": [
              "True"
            ]
          },
          "metadata": {},
          "execution_count": 31
        }
      ],
      "source": [
        "False or True"
      ]
    },
    {
      "cell_type": "code",
      "execution_count": null,
      "metadata": {
        "id": "MwNsRHnLh8Gg",
        "colab": {
          "base_uri": "https://localhost:8080/"
        },
        "outputId": "7079097b-2c30-4816-a784-5c607ebb4a18"
      },
      "outputs": [
        {
          "output_type": "execute_result",
          "data": {
            "text/plain": [
              "True"
            ]
          },
          "metadata": {},
          "execution_count": 32
        }
      ],
      "source": [
        "True or True"
      ]
    },
    {
      "cell_type": "markdown",
      "metadata": {
        "id": "-XZhCFqhh8Gg"
      },
      "source": [
        "NOT operator:"
      ]
    },
    {
      "cell_type": "code",
      "execution_count": null,
      "metadata": {
        "id": "JtnL6fxdh8Gg",
        "colab": {
          "base_uri": "https://localhost:8080/"
        },
        "outputId": "5bf0615e-ed06-48b3-83c5-33904978fb05"
      },
      "outputs": [
        {
          "output_type": "execute_result",
          "data": {
            "text/plain": [
              "False"
            ]
          },
          "metadata": {},
          "execution_count": 33
        }
      ],
      "source": [
        "not True"
      ]
    },
    {
      "cell_type": "code",
      "execution_count": null,
      "metadata": {
        "id": "kXs1gKdIh8Gg",
        "colab": {
          "base_uri": "https://localhost:8080/"
        },
        "outputId": "0985f96f-b5cc-491a-9644-55154348b631"
      },
      "outputs": [
        {
          "output_type": "execute_result",
          "data": {
            "text/plain": [
              "True"
            ]
          },
          "metadata": {},
          "execution_count": 34
        }
      ],
      "source": [
        "not False"
      ]
    },
    {
      "cell_type": "code",
      "execution_count": null,
      "metadata": {
        "id": "RokGX_D-h8Gg",
        "colab": {
          "base_uri": "https://localhost:8080/"
        },
        "outputId": "79b82ece-47f5-4746-df6c-0ce591bc0f71"
      },
      "outputs": [
        {
          "output_type": "execute_result",
          "data": {
            "text/plain": [
              "False"
            ]
          },
          "metadata": {},
          "execution_count": 35
        }
      ],
      "source": [
        "not (4 > 2)"
      ]
    },
    {
      "cell_type": "code",
      "execution_count": null,
      "metadata": {
        "id": "ATdnsbUqh8Gg",
        "colab": {
          "base_uri": "https://localhost:8080/"
        },
        "outputId": "9dae5016-6967-4755-b779-f7afb5f29a05"
      },
      "outputs": [
        {
          "output_type": "execute_result",
          "data": {
            "text/plain": [
              "True"
            ]
          },
          "metadata": {},
          "execution_count": 36
        }
      ],
      "source": [
        "not (4 < 2)"
      ]
    },
    {
      "cell_type": "markdown",
      "metadata": {
        "id": "njTo-Oa0h8Gg"
      },
      "source": [
        "#### 3.2. Implicit Boolean:"
      ]
    },
    {
      "cell_type": "code",
      "execution_count": null,
      "metadata": {
        "id": "k90DEF67h8Gg"
      },
      "outputs": [],
      "source": [
        "x = []\n",
        "y = [1,2,3]"
      ]
    },
    {
      "cell_type": "code",
      "execution_count": null,
      "metadata": {
        "id": "rvAscqIGh8Gg",
        "colab": {
          "base_uri": "https://localhost:8080/"
        },
        "outputId": "f4e42aec-a57b-470a-c470-be38691d496d"
      },
      "outputs": [
        {
          "output_type": "stream",
          "name": "stdout",
          "text": [
            "Empty!\n"
          ]
        }
      ],
      "source": [
        "if x:\n",
        "    print('Not empty.')\n",
        "else:\n",
        "    print('Empty!')"
      ]
    },
    {
      "cell_type": "code",
      "execution_count": null,
      "metadata": {
        "id": "_6barT5Sh8Gg",
        "colab": {
          "base_uri": "https://localhost:8080/"
        },
        "outputId": "33b5c91f-873d-4b20-e0c7-dcc8b36ec0fa"
      },
      "outputs": [
        {
          "output_type": "stream",
          "name": "stdout",
          "text": [
            "Not empty.\n"
          ]
        }
      ],
      "source": [
        "if y:\n",
        "    print('Not empty.')\n",
        "else:\n",
        "    print('Empty!')"
      ]
    },
    {
      "cell_type": "code",
      "execution_count": null,
      "metadata": {
        "id": "84MTdoIKh8Gg"
      },
      "outputs": [],
      "source": []
    }
  ],
  "metadata": {
    "kernelspec": {
      "display_name": "Python 3",
      "language": "python",
      "name": "python3"
    },
    "language_info": {
      "codemirror_mode": {
        "name": "ipython",
        "version": 3
      },
      "file_extension": ".py",
      "mimetype": "text/x-python",
      "name": "python",
      "nbconvert_exporter": "python",
      "pygments_lexer": "ipython3",
      "version": "3.7.3"
    },
    "colab": {
      "provenance": [],
      "include_colab_link": true
    }
  },
  "nbformat": 4,
  "nbformat_minor": 0
}
